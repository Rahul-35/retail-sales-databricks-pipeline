{
 "cells": [
  {
   "cell_type": "code",
   "execution_count": 0,
   "metadata": {
    "application/vnd.databricks.v1+cell": {
     "cellMetadata": {
      "byteLimit": 2048000,
      "rowLimit": 10000
     },
     "inputWidgets": {},
     "nuid": "d624b4c0-1f42-48ba-8054-861599d94234",
     "showTitle": false,
     "tableResultSettingsMap": {},
     "title": ""
    }
   },
   "outputs": [
    {
     "output_type": "stream",
     "name": "stdout",
     "output_type": "stream",
     "text": [
      "+------+--------------+----------+----------+--------------+-----------+---------------+---------+-------------+---------------+----------+-----------+-------+---------------+---------------+------------+--------------------+--------+--------+--------+--------+\n|Row ID|       OrderID| OrderDate| Ship Date|     Ship Mode|Customer ID|  Customer Name|  Segment|      Country|           City|     State|Postal Code|StoreID|      ProductID|       Category|Sub-Category|        Product Name|   Price|Quantity|Discount|  Profit|\n+------+--------------+----------+----------+--------------+-----------+---------------+---------+-------------+---------------+----------+-----------+-------+---------------+---------------+------------+--------------------+--------+--------+--------+--------+\n|     1|CA-2016-152156| 11/8/2016|11/11/2016|  Second Class|   CG-12520|    Claire Gute| Consumer|United States|      Henderson|  Kentucky|      42420|  South|FUR-BO-10001798|      Furniture|   Bookcases|Bush Somerset Col...|  261.96|       2|       0| 41.9136|\n|     2|CA-2016-152156| 11/8/2016|11/11/2016|  Second Class|   CG-12520|    Claire Gute| Consumer|United States|      Henderson|  Kentucky|      42420|  South|FUR-CH-10000454|      Furniture|      Chairs|Hon Deluxe Fabric...|  731.94|       3|       0| 219.582|\n|     3|CA-2016-138688| 6/12/2016| 6/16/2016|  Second Class|   DV-13045|Darrin Van Huff|Corporate|United States|    Los Angeles|California|      90036|   West|OFF-LA-10000240|Office Supplies|      Labels|Self-Adhesive Add...|   14.62|       2|       0|  6.8714|\n|     4|US-2015-108966|10/11/2015|10/18/2015|Standard Class|   SO-20335| Sean O'Donnell| Consumer|United States|Fort Lauderdale|   Florida|      33311|  South|FUR-TA-10000577|      Furniture|      Tables|Bretford CR4500 S...|957.5775|       5|    0.45|-383.031|\n|     5|US-2015-108966|10/11/2015|10/18/2015|Standard Class|   SO-20335| Sean O'Donnell| Consumer|United States|Fort Lauderdale|   Florida|      33311|  South|OFF-ST-10000760|Office Supplies|     Storage|Eldon Fold 'N Rol...|  22.368|       2|     0.2|  2.5164|\n+------+--------------+----------+----------+--------------+-----------+---------------+---------+-------------+---------------+----------+-----------+-------+---------------+---------------+------------+--------------------+--------+--------+--------+--------+\nonly showing top 5 rows\n"
     ]
    }
   ],
   "source": [
    "from pyspark.sql import SparkSession\n",
    "from pyspark.sql.functions import *\n",
    "\n",
    "\n",
    "# Upload the CSV manually in sidebar if UI shows upload, or simulate from a path\n",
    "df = spark.read.option(\"header\", True).csv(\"file:/Workspace/Users/Username/Superstore.csv\")\n",
    "df.show(5)"
   ]
  },
  {
   "cell_type": "code",
   "execution_count": 0,
   "metadata": {
    "application/vnd.databricks.v1+cell": {
     "cellMetadata": {
      "byteLimit": 2048000,
      "rowLimit": 10000
     },
     "inputWidgets": {},
     "nuid": "c9aaf7d0-ec28-4546-90f4-5ee0a06285d0",
     "showTitle": false,
     "tableResultSettingsMap": {},
     "title": ""
    }
   },
   "outputs": [
    {
     "output_type": "stream",
     "name": "stdout",
     "output_type": "stream",
     "text": [
      "+--------------+---------------+----------+-------+--------+--------+-----+\n|       OrderID|      ProductID| OrderDate|StoreID|Quantity|   Price|RowID|\n+--------------+---------------+----------+-------+--------+--------+-----+\n|CA-2016-152156|FUR-BO-10001798| 11/8/2016|  South|       2|  261.96|    1|\n|CA-2016-152156|FUR-CH-10000454| 11/8/2016|  South|       3|  731.94|    2|\n|CA-2016-138688|OFF-LA-10000240| 6/12/2016|   West|       2|   14.62|    3|\n|US-2015-108966|FUR-TA-10000577|10/11/2015|  South|       5|957.5775|    4|\n|US-2015-108966|OFF-ST-10000760|10/11/2015|  South|       2|  22.368|    5|\n+--------------+---------------+----------+-------+--------+--------+-----+\nonly showing top 5 rows\n"
     ]
    }
   ],
   "source": [
    "from pyspark.sql.functions import col, monotonically_increasing_id, rand\n",
    "\n",
    "df_clean = df.select(\n",
    "    col(\"OrderID\"),\n",
    "    col(\"ProductID\"),\n",
    "    col(\"OrderDate\"),\n",
    "    col(\"StoreID\"),\n",
    "    col(\"Quantity\").cast(\"int\"),\n",
    "    col(\"Price\").cast(\"double\"),\n",
    "    col(\"Row ID\").alias(\"RowID\")\n",
    ")\n",
    "\n",
    "df_clean.show(5)"
   ]
  },
  {
   "cell_type": "code",
   "execution_count": 0,
   "metadata": {
    "application/vnd.databricks.v1+cell": {
     "cellMetadata": {
      "byteLimit": 2048000,
      "rowLimit": 10000
     },
     "inputWidgets": {},
     "nuid": "9e8f485e-5f97-4815-baad-83366e91ac12",
     "showTitle": false,
     "tableResultSettingsMap": {},
     "title": ""
    }
   },
   "outputs": [],
   "source": [
    "df_clean.write.format(\"delta\").option(\"mergeSchema\", \"true\").mode(\"overwrite\").saveAsTable(\"bronze_retail\")\n"
   ]
  },
  {
   "cell_type": "code",
   "execution_count": 0,
   "metadata": {
    "application/vnd.databricks.v1+cell": {
     "cellMetadata": {
      "byteLimit": 2048000,
      "rowLimit": 10000
     },
     "inputWidgets": {},
     "nuid": "3d9ebe08-70e9-40cb-8d02-b8c6f955f013",
     "showTitle": false,
     "tableResultSettingsMap": {},
     "title": ""
    }
   },
   "outputs": [
    {
     "output_type": "stream",
     "name": "stdout",
     "output_type": "stream",
     "text": [
      "+--------------+---------------+----------+--------+--------+-----+-------+\n|       OrderID|      ProductID| OrderDate|Quantity|   Price|RowID|StoreID|\n+--------------+---------------+----------+--------+--------+-----+-------+\n|CA-2016-152156|FUR-BO-10001798| 11/8/2016|       2|  261.96|    1|  South|\n|CA-2016-152156|FUR-CH-10000454| 11/8/2016|       3|  731.94|    2|  South|\n|CA-2016-138688|OFF-LA-10000240| 6/12/2016|       2|   14.62|    3|   West|\n|US-2015-108966|FUR-TA-10000577|10/11/2015|       5|957.5775|    4|  South|\n|US-2015-108966|OFF-ST-10000760|10/11/2015|       2|  22.368|    5|  South|\n+--------------+---------------+----------+--------+--------+-----+-------+\nonly showing top 5 rows\n"
     ]
    }
   ],
   "source": [
    "bronze_df = spark.read.table(\"bronze_retail\")\n",
    "bronze_df.show(5)\n"
   ]
  },
  {
   "cell_type": "code",
   "execution_count": 0,
   "metadata": {
    "application/vnd.databricks.v1+cell": {
     "cellMetadata": {
      "byteLimit": 2048000,
      "rowLimit": 10000
     },
     "inputWidgets": {},
     "nuid": "0abcca27-e239-401c-9fe8-3fad52086042",
     "showTitle": false,
     "tableResultSettingsMap": {},
     "title": ""
    }
   },
   "outputs": [
    {
     "output_type": "stream",
     "name": "stdout",
     "output_type": "stream",
     "text": [
      "+--------------+---------------+----------+--------+--------+-----+-------+\n|       OrderID|      ProductID| OrderDate|Quantity|   Price|RowID|StoreID|\n+--------------+---------------+----------+--------+--------+-----+-------+\n|US-2015-108966|FUR-TA-10000577|2015-10-11|       5|957.5775|    4|  South|\n|US-2015-108966|OFF-ST-10000760|2015-10-11|       2|  22.368|    5|  South|\n|US-2015-118983|OFF-AP-10002311|2015-11-22|       5|   68.81|   15|Central|\n|US-2015-118983|OFF-BI-10000756|2015-11-22|       3|   2.544|   16|Central|\n|CA-2014-105893|OFF-ST-10004186|2014-11-11|       6|  665.88|   17|Central|\n+--------------+---------------+----------+--------+--------+-----+-------+\nonly showing top 5 rows\n"
     ]
    }
   ],
   "source": [
    "from pyspark.sql.functions import to_date\n",
    "\n",
    "silver_df = bronze_df \\\n",
    "    .filter(\"Quantity > 0 AND Price > 0\") \\\n",
    "    .withColumn(\"OrderDate\", to_date(col(\"OrderDate\"), \"MM/dd/yyyy\")) \\\n",
    "    .dropna(subset=[\"OrderID\", \"ProductID\", \"StoreID\", \"OrderDate\", \"Quantity\", \"Price\"])\n",
    "\n",
    "silver_df.show(5)\n"
   ]
  },
  {
   "cell_type": "code",
   "execution_count": 0,
   "metadata": {
    "application/vnd.databricks.v1+cell": {
     "cellMetadata": {
      "byteLimit": 2048000,
      "rowLimit": 10000
     },
     "inputWidgets": {},
     "nuid": "eb1a5531-988e-4f38-9166-bd37cfd6c0da",
     "showTitle": false,
     "tableResultSettingsMap": {},
     "title": ""
    }
   },
   "outputs": [],
   "source": [
    "silver_df.write.format(\"delta\").mode(\"overwrite\").saveAsTable(\"silver_retail\")\n"
   ]
  },
  {
   "cell_type": "code",
   "execution_count": 0,
   "metadata": {
    "application/vnd.databricks.v1+cell": {
     "cellMetadata": {
      "byteLimit": 2048000,
      "rowLimit": 10000
     },
     "inputWidgets": {},
     "nuid": "faa4257a-0fa2-4198-b125-72f2a2ad00b3",
     "showTitle": false,
     "tableResultSettingsMap": {},
     "title": ""
    }
   },
   "outputs": [],
   "source": [
    "invalid_rows = bronze_df.filter(\"Quantity <= 0 OR Price <= 0 OR OrderID IS NULL\")\n",
    "invalid_rows.write.format(\"delta\").mode(\"overwrite\").saveAsTable(\"invalid_records\")\n"
   ]
  },
  {
   "cell_type": "code",
   "execution_count": 0,
   "metadata": {
    "application/vnd.databricks.v1+cell": {
     "cellMetadata": {
      "byteLimit": 2048000,
      "rowLimit": 10000
     },
     "inputWidgets": {},
     "nuid": "8fe2abd4-35be-4279-a0fc-08669ac9ffba",
     "showTitle": false,
     "tableResultSettingsMap": {},
     "title": ""
    }
   },
   "outputs": [
    {
     "output_type": "stream",
     "name": "stdout",
     "output_type": "stream",
     "text": [
      "+--------------+---------------+----------+--------+--------+-----+-------+\n|       OrderID|      ProductID| OrderDate|Quantity|   Price|RowID|StoreID|\n+--------------+---------------+----------+--------+--------+-----+-------+\n|US-2015-108966|FUR-TA-10000577|2015-10-11|       5|957.5775|    4|  South|\n|US-2015-108966|OFF-ST-10000760|2015-10-11|       2|  22.368|    5|  South|\n|US-2015-118983|OFF-AP-10002311|2015-11-22|       5|   68.81|   15|Central|\n|US-2015-118983|OFF-BI-10000756|2015-11-22|       3|   2.544|   16|Central|\n|CA-2014-105893|OFF-ST-10004186|2014-11-11|       6|  665.88|   17|Central|\n+--------------+---------------+----------+--------+--------+-----+-------+\nonly showing top 5 rows\n"
     ]
    }
   ],
   "source": [
    "silver_df = spark.read.table(\"silver_retail\")\n",
    "silver_df.show(5)\n"
   ]
  },
  {
   "cell_type": "code",
   "execution_count": 0,
   "metadata": {
    "application/vnd.databricks.v1+cell": {
     "cellMetadata": {
      "byteLimit": 2048000,
      "rowLimit": 10000
     },
     "inputWidgets": {},
     "nuid": "cfcf9a74-33eb-4e06-b0ef-085141a3cbb1",
     "showTitle": false,
     "tableResultSettingsMap": {},
     "title": ""
    }
   },
   "outputs": [
    {
     "output_type": "stream",
     "name": "stdout",
     "output_type": "stream",
     "text": [
      "+-------+----------+--------------+------------------+-----------+\n|StoreID| OrderDate|TotalItemsSold|      TotalRevenue|TotalOrders|\n+-------+----------+--------------+------------------+-----------+\n|Central|2017-10-26|             5|           143.542|          2|\n|   East|2017-12-18|            47|         33141.294|          4|\n|Central|2014-11-18|            33| 7234.429999999999|          4|\n|   West|2015-10-20|            19|          2433.678|          2|\n|  South|2015-12-25|            17|2502.3799999999997|          2|\n|  South|2015-11-30|            21|1754.2160000000001|          4|\n|Central|2014-10-17|            10|           424.452|          2|\n|Central|2016-12-27|            14| 6879.360000000001|          2|\n|Central|2016-10-29|             5|             335.0|          1|\n|Central|2014-12-30|            16|1592.7939999999999|          2|\n+-------+----------+--------------+------------------+-----------+\nonly showing top 10 rows\n"
     ]
    }
   ],
   "source": [
    "from pyspark.sql.functions import sum, countDistinct\n",
    "\n",
    "gold_df = silver_df.groupBy(\"StoreID\", \"OrderDate\").agg(\n",
    "    sum(col(\"Quantity\")).alias(\"TotalItemsSold\"),\n",
    "    sum(col(\"Quantity\") * col(\"Price\")).alias(\"TotalRevenue\"),\n",
    "    countDistinct(\"OrderID\").alias(\"TotalOrders\")\n",
    ")\n",
    "\n",
    "gold_df.show(10)\n"
   ]
  },
  {
   "cell_type": "code",
   "execution_count": 0,
   "metadata": {
    "application/vnd.databricks.v1+cell": {
     "cellMetadata": {
      "byteLimit": 2048000,
      "rowLimit": 10000
     },
     "inputWidgets": {},
     "nuid": "e9533782-92bd-40fe-83ee-c6cc5c83ed11",
     "showTitle": false,
     "tableResultSettingsMap": {},
     "title": ""
    }
   },
   "outputs": [],
   "source": [
    "gold_df.write.format(\"delta\").mode(\"overwrite\").saveAsTable(\"gold_retail\")\n"
   ]
  },
  {
   "cell_type": "code",
   "execution_count": 0,
   "metadata": {
    "application/vnd.databricks.v1+cell": {
     "cellMetadata": {
      "byteLimit": 2048000,
      "rowLimit": 10000
     },
     "inputWidgets": {},
     "nuid": "7a78626f-6717-4ab0-ac02-6e4bbb27ffa5",
     "showTitle": false,
     "tableResultSettingsMap": {},
     "title": ""
    }
   },
   "outputs": [],
   "source": [
    "top_products_df = silver_df.groupBy(\"ProductID\").agg(\n",
    "    sum(col(\"Quantity\")).alias(\"TotalUnitsSold\"),\n",
    "    sum(col(\"Quantity\") * col(\"Price\")).alias(\"TotalProductRevenue\")\n",
    ").orderBy(col(\"TotalProductRevenue\").desc())\n",
    "\n",
    "top_products_df.write.format(\"delta\").mode(\"overwrite\").saveAsTable(\"top_products\")\n"
   ]
  },
  {
   "cell_type": "code",
   "execution_count": 0,
   "metadata": {
    "application/vnd.databricks.v1+cell": {
     "cellMetadata": {},
     "inputWidgets": {},
     "nuid": "1eb5b0be-701b-4878-a83e-e3d8ae507b7d",
     "showTitle": false,
     "tableResultSettingsMap": {},
     "title": ""
    }
   },
   "outputs": [],
   "source": []
  }
 ],
 "metadata": {
  "application/vnd.databricks.v1+notebook": {
   "computePreferences": null,
   "dashboards": [],
   "environmentMetadata": {
    "base_environment": "",
    "environment_version": "2"
   },
   "inputWidgetPreferences": null,
   "language": "python",
   "notebookMetadata": {
    "pythonIndentUnit": 4
   },
   "notebookName": "Retail_ETL_Project",
   "widgets": {}
  },
  "language_info": {
   "name": "python"
  }
 },
 "nbformat": 4,
 "nbformat_minor": 0
}
